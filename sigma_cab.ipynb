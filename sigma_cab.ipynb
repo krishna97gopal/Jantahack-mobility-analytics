{
 "cells": [
  {
   "cell_type": "code",
   "execution_count": 1,
   "metadata": {},
   "outputs": [
    {
     "name": "stderr",
     "output_type": "stream",
     "text": [
      "C:\\Users\\gopal\\Anaconda3\\lib\\site-packages\\sklearn\\utils\\deprecation.py:144: FutureWarning: The sklearn.metrics.classification module is  deprecated in version 0.22 and will be removed in version 0.24. The corresponding classes / functions should instead be imported from sklearn.metrics. Anything that cannot be imported from sklearn.metrics is now part of the private API.\n",
      "  warnings.warn(message, FutureWarning)\n"
     ]
    }
   ],
   "source": [
    "import pandas as pd\n",
    "import matplotlib.pyplot as plt\n",
    "import re\n",
    "import time\n",
    "import warnings\n",
    "import numpy as np\n",
    "from nltk.corpus import stopwords\n",
    "from sklearn.decomposition import TruncatedSVD\n",
    "from sklearn.preprocessing import normalize\n",
    "from sklearn.feature_extraction.text import CountVectorizer\n",
    "from sklearn.manifold import TSNE\n",
    "import seaborn as sns\n",
    "from sklearn.neighbors import KNeighborsClassifier\n",
    "from sklearn.metrics import confusion_matrix\n",
    "from sklearn.metrics.classification import accuracy_score, log_loss\n",
    "from sklearn.feature_extraction.text import TfidfVectorizer\n",
    "from sklearn.linear_model import SGDClassifier\n",
    "#from imblearn.over_sampling import SMOTE\n",
    "from collections import Counter\n",
    "from scipy.sparse import hstack\n",
    "from sklearn.multiclass import OneVsRestClassifier\n",
    "from sklearn.svm import SVC\n",
    "#from sklearn.cross_validation import StratifiedKFold \n",
    "from collections import Counter, defaultdict\n",
    "from sklearn.calibration import CalibratedClassifierCV\n",
    "from sklearn.naive_bayes import MultinomialNB\n",
    "from sklearn.naive_bayes import GaussianNB\n",
    "from sklearn.model_selection import train_test_split\n",
    "from sklearn.model_selection import GridSearchCV\n",
    "import math\n",
    "from sklearn.metrics import normalized_mutual_info_score\n",
    "from sklearn.ensemble import RandomForestClassifier\n",
    "warnings.filterwarnings(\"ignore\")\n",
    "\n",
    "#from mlxtend.classifier import StackingClassifier\n",
    "\n",
    "from sklearn import model_selection\n",
    "from sklearn.linear_model import LogisticRegression\n"
   ]
  },
  {
   "cell_type": "code",
   "execution_count": 2,
   "metadata": {},
   "outputs": [
    {
     "name": "stdout",
     "output_type": "stream",
     "text": [
      "Number of data points :  131662\n",
      "Number of features :  14\n",
      "Features :  ['Trip_ID' 'Trip_Distance' 'Type_of_Cab' 'Customer_Since_Months'\n",
      " 'Life_Style_Index' 'Confidence_Life_Style_Index' 'Destination_Type'\n",
      " 'Customer_Rating' 'Cancellation_Last_1Month' 'Var1' 'Var2' 'Var3'\n",
      " 'Gender' 'Surge_Pricing_Type']\n"
     ]
    },
    {
     "data": {
      "text/html": [
       "<div>\n",
       "<style scoped>\n",
       "    .dataframe tbody tr th:only-of-type {\n",
       "        vertical-align: middle;\n",
       "    }\n",
       "\n",
       "    .dataframe tbody tr th {\n",
       "        vertical-align: top;\n",
       "    }\n",
       "\n",
       "    .dataframe thead th {\n",
       "        text-align: right;\n",
       "    }\n",
       "</style>\n",
       "<table border=\"1\" class=\"dataframe\">\n",
       "  <thead>\n",
       "    <tr style=\"text-align: right;\">\n",
       "      <th></th>\n",
       "      <th>Trip_ID</th>\n",
       "      <th>Trip_Distance</th>\n",
       "      <th>Type_of_Cab</th>\n",
       "      <th>Customer_Since_Months</th>\n",
       "      <th>Life_Style_Index</th>\n",
       "      <th>Confidence_Life_Style_Index</th>\n",
       "      <th>Destination_Type</th>\n",
       "      <th>Customer_Rating</th>\n",
       "      <th>Cancellation_Last_1Month</th>\n",
       "      <th>Var1</th>\n",
       "      <th>Var2</th>\n",
       "      <th>Var3</th>\n",
       "      <th>Gender</th>\n",
       "      <th>Surge_Pricing_Type</th>\n",
       "    </tr>\n",
       "  </thead>\n",
       "  <tbody>\n",
       "    <tr>\n",
       "      <td>0</td>\n",
       "      <td>T0005689460</td>\n",
       "      <td>6.77</td>\n",
       "      <td>B</td>\n",
       "      <td>1.0</td>\n",
       "      <td>2.42769</td>\n",
       "      <td>A</td>\n",
       "      <td>A</td>\n",
       "      <td>3.90500</td>\n",
       "      <td>0</td>\n",
       "      <td>40.0</td>\n",
       "      <td>46</td>\n",
       "      <td>60</td>\n",
       "      <td>Female</td>\n",
       "      <td>2</td>\n",
       "    </tr>\n",
       "    <tr>\n",
       "      <td>1</td>\n",
       "      <td>T0005689461</td>\n",
       "      <td>29.47</td>\n",
       "      <td>B</td>\n",
       "      <td>10.0</td>\n",
       "      <td>2.78245</td>\n",
       "      <td>B</td>\n",
       "      <td>A</td>\n",
       "      <td>3.45000</td>\n",
       "      <td>0</td>\n",
       "      <td>38.0</td>\n",
       "      <td>56</td>\n",
       "      <td>78</td>\n",
       "      <td>Male</td>\n",
       "      <td>2</td>\n",
       "    </tr>\n",
       "    <tr>\n",
       "      <td>2</td>\n",
       "      <td>T0005689464</td>\n",
       "      <td>41.58</td>\n",
       "      <td>NaN</td>\n",
       "      <td>10.0</td>\n",
       "      <td>NaN</td>\n",
       "      <td>NaN</td>\n",
       "      <td>E</td>\n",
       "      <td>3.50125</td>\n",
       "      <td>2</td>\n",
       "      <td>NaN</td>\n",
       "      <td>56</td>\n",
       "      <td>77</td>\n",
       "      <td>Male</td>\n",
       "      <td>2</td>\n",
       "    </tr>\n",
       "    <tr>\n",
       "      <td>3</td>\n",
       "      <td>T0005689465</td>\n",
       "      <td>61.56</td>\n",
       "      <td>C</td>\n",
       "      <td>10.0</td>\n",
       "      <td>NaN</td>\n",
       "      <td>NaN</td>\n",
       "      <td>A</td>\n",
       "      <td>3.45375</td>\n",
       "      <td>0</td>\n",
       "      <td>NaN</td>\n",
       "      <td>52</td>\n",
       "      <td>74</td>\n",
       "      <td>Male</td>\n",
       "      <td>3</td>\n",
       "    </tr>\n",
       "    <tr>\n",
       "      <td>4</td>\n",
       "      <td>T0005689467</td>\n",
       "      <td>54.95</td>\n",
       "      <td>C</td>\n",
       "      <td>10.0</td>\n",
       "      <td>3.03453</td>\n",
       "      <td>B</td>\n",
       "      <td>A</td>\n",
       "      <td>3.40250</td>\n",
       "      <td>4</td>\n",
       "      <td>51.0</td>\n",
       "      <td>49</td>\n",
       "      <td>102</td>\n",
       "      <td>Male</td>\n",
       "      <td>2</td>\n",
       "    </tr>\n",
       "  </tbody>\n",
       "</table>\n",
       "</div>"
      ],
      "text/plain": [
       "       Trip_ID  Trip_Distance Type_of_Cab  Customer_Since_Months  \\\n",
       "0  T0005689460           6.77           B                    1.0   \n",
       "1  T0005689461          29.47           B                   10.0   \n",
       "2  T0005689464          41.58         NaN                   10.0   \n",
       "3  T0005689465          61.56           C                   10.0   \n",
       "4  T0005689467          54.95           C                   10.0   \n",
       "\n",
       "   Life_Style_Index Confidence_Life_Style_Index Destination_Type  \\\n",
       "0           2.42769                           A                A   \n",
       "1           2.78245                           B                A   \n",
       "2               NaN                         NaN                E   \n",
       "3               NaN                         NaN                A   \n",
       "4           3.03453                           B                A   \n",
       "\n",
       "   Customer_Rating  Cancellation_Last_1Month  Var1  Var2  Var3  Gender  \\\n",
       "0          3.90500                         0  40.0    46    60  Female   \n",
       "1          3.45000                         0  38.0    56    78    Male   \n",
       "2          3.50125                         2   NaN    56    77    Male   \n",
       "3          3.45375                         0   NaN    52    74    Male   \n",
       "4          3.40250                         4  51.0    49   102    Male   \n",
       "\n",
       "   Surge_Pricing_Type  \n",
       "0                   2  \n",
       "1                   2  \n",
       "2                   2  \n",
       "3                   3  \n",
       "4                   2  "
      ]
     },
     "execution_count": 2,
     "metadata": {},
     "output_type": "execute_result"
    }
   ],
   "source": [
    "data=pd.read_csv(\"train.csv\")\n",
    "print('Number of data points : ', data.shape[0])\n",
    "print('Number of features : ', data.shape[1])\n",
    "print('Features : ', data.columns.values)\n",
    "data.head()"
   ]
  },
  {
   "cell_type": "code",
   "execution_count": 3,
   "metadata": {},
   "outputs": [
    {
     "name": "stdout",
     "output_type": "stream",
     "text": [
      "Number of data points :  87395\n",
      "Number of features :  13\n",
      "Features :  ['Trip_ID' 'Trip_Distance' 'Type_of_Cab' 'Customer_Since_Months'\n",
      " 'Life_Style_Index' 'Confidence_Life_Style_Index' 'Destination_Type'\n",
      " 'Customer_Rating' 'Cancellation_Last_1Month' 'Var1' 'Var2' 'Var3'\n",
      " 'Gender']\n"
     ]
    },
    {
     "data": {
      "text/html": [
       "<div>\n",
       "<style scoped>\n",
       "    .dataframe tbody tr th:only-of-type {\n",
       "        vertical-align: middle;\n",
       "    }\n",
       "\n",
       "    .dataframe tbody tr th {\n",
       "        vertical-align: top;\n",
       "    }\n",
       "\n",
       "    .dataframe thead th {\n",
       "        text-align: right;\n",
       "    }\n",
       "</style>\n",
       "<table border=\"1\" class=\"dataframe\">\n",
       "  <thead>\n",
       "    <tr style=\"text-align: right;\">\n",
       "      <th></th>\n",
       "      <th>Trip_ID</th>\n",
       "      <th>Trip_Distance</th>\n",
       "      <th>Type_of_Cab</th>\n",
       "      <th>Customer_Since_Months</th>\n",
       "      <th>Life_Style_Index</th>\n",
       "      <th>Confidence_Life_Style_Index</th>\n",
       "      <th>Destination_Type</th>\n",
       "      <th>Customer_Rating</th>\n",
       "      <th>Cancellation_Last_1Month</th>\n",
       "      <th>Var1</th>\n",
       "      <th>Var2</th>\n",
       "      <th>Var3</th>\n",
       "      <th>Gender</th>\n",
       "    </tr>\n",
       "  </thead>\n",
       "  <tbody>\n",
       "    <tr>\n",
       "      <td>0</td>\n",
       "      <td>T0005689459</td>\n",
       "      <td>9.44</td>\n",
       "      <td>A</td>\n",
       "      <td>10.0</td>\n",
       "      <td>2.57438</td>\n",
       "      <td>A</td>\n",
       "      <td>B</td>\n",
       "      <td>3.68000</td>\n",
       "      <td>2</td>\n",
       "      <td>NaN</td>\n",
       "      <td>46</td>\n",
       "      <td>63</td>\n",
       "      <td>Male</td>\n",
       "    </tr>\n",
       "    <tr>\n",
       "      <td>1</td>\n",
       "      <td>T0005689462</td>\n",
       "      <td>32.15</td>\n",
       "      <td>B</td>\n",
       "      <td>10.0</td>\n",
       "      <td>2.85143</td>\n",
       "      <td>A</td>\n",
       "      <td>A</td>\n",
       "      <td>1.59375</td>\n",
       "      <td>0</td>\n",
       "      <td>65.0</td>\n",
       "      <td>49</td>\n",
       "      <td>80</td>\n",
       "      <td>Female</td>\n",
       "    </tr>\n",
       "    <tr>\n",
       "      <td>2</td>\n",
       "      <td>T0005689463</td>\n",
       "      <td>10.38</td>\n",
       "      <td>C</td>\n",
       "      <td>4.0</td>\n",
       "      <td>2.70530</td>\n",
       "      <td>A</td>\n",
       "      <td>D</td>\n",
       "      <td>4.50500</td>\n",
       "      <td>0</td>\n",
       "      <td>NaN</td>\n",
       "      <td>47</td>\n",
       "      <td>74</td>\n",
       "      <td>Male</td>\n",
       "    </tr>\n",
       "    <tr>\n",
       "      <td>3</td>\n",
       "      <td>T0005689466</td>\n",
       "      <td>14.94</td>\n",
       "      <td>NaN</td>\n",
       "      <td>6.0</td>\n",
       "      <td>2.48159</td>\n",
       "      <td>C</td>\n",
       "      <td>E</td>\n",
       "      <td>4.53000</td>\n",
       "      <td>0</td>\n",
       "      <td>63.0</td>\n",
       "      <td>43</td>\n",
       "      <td>54</td>\n",
       "      <td>Male</td>\n",
       "    </tr>\n",
       "    <tr>\n",
       "      <td>4</td>\n",
       "      <td>T0005689468</td>\n",
       "      <td>32.03</td>\n",
       "      <td>B</td>\n",
       "      <td>7.0</td>\n",
       "      <td>2.81598</td>\n",
       "      <td>A</td>\n",
       "      <td>K</td>\n",
       "      <td>4.60125</td>\n",
       "      <td>3</td>\n",
       "      <td>96.0</td>\n",
       "      <td>44</td>\n",
       "      <td>56</td>\n",
       "      <td>Male</td>\n",
       "    </tr>\n",
       "  </tbody>\n",
       "</table>\n",
       "</div>"
      ],
      "text/plain": [
       "       Trip_ID  Trip_Distance Type_of_Cab  Customer_Since_Months  \\\n",
       "0  T0005689459           9.44           A                   10.0   \n",
       "1  T0005689462          32.15           B                   10.0   \n",
       "2  T0005689463          10.38           C                    4.0   \n",
       "3  T0005689466          14.94         NaN                    6.0   \n",
       "4  T0005689468          32.03           B                    7.0   \n",
       "\n",
       "   Life_Style_Index Confidence_Life_Style_Index Destination_Type  \\\n",
       "0           2.57438                           A                B   \n",
       "1           2.85143                           A                A   \n",
       "2           2.70530                           A                D   \n",
       "3           2.48159                           C                E   \n",
       "4           2.81598                           A                K   \n",
       "\n",
       "   Customer_Rating  Cancellation_Last_1Month  Var1  Var2  Var3  Gender  \n",
       "0          3.68000                         2   NaN    46    63    Male  \n",
       "1          1.59375                         0  65.0    49    80  Female  \n",
       "2          4.50500                         0   NaN    47    74    Male  \n",
       "3          4.53000                         0  63.0    43    54    Male  \n",
       "4          4.60125                         3  96.0    44    56    Male  "
      ]
     },
     "execution_count": 3,
     "metadata": {},
     "output_type": "execute_result"
    }
   ],
   "source": [
    "data_test=pd.read_csv(\"test.csv\")\n",
    "print('Number of data points : ', data_test.shape[0])\n",
    "print('Number of features : ', data_test.shape[1])\n",
    "print('Features : ', data_test.columns.values)\n",
    "data_test.head()"
   ]
  },
  {
   "cell_type": "code",
   "execution_count": 4,
   "metadata": {},
   "outputs": [],
   "source": [
    "train_len = len(data)\n",
    "dataset =  pd.concat(objs=[data, data_test], axis=0).reset_index(drop=True)"
   ]
  },
  {
   "cell_type": "code",
   "execution_count": 5,
   "metadata": {},
   "outputs": [
    {
     "data": {
      "text/html": [
       "<div>\n",
       "<style scoped>\n",
       "    .dataframe tbody tr th:only-of-type {\n",
       "        vertical-align: middle;\n",
       "    }\n",
       "\n",
       "    .dataframe tbody tr th {\n",
       "        vertical-align: top;\n",
       "    }\n",
       "\n",
       "    .dataframe thead th {\n",
       "        text-align: right;\n",
       "    }\n",
       "</style>\n",
       "<table border=\"1\" class=\"dataframe\">\n",
       "  <thead>\n",
       "    <tr style=\"text-align: right;\">\n",
       "      <th></th>\n",
       "      <th>Cancellation_Last_1Month</th>\n",
       "      <th>Confidence_Life_Style_Index</th>\n",
       "      <th>Customer_Rating</th>\n",
       "      <th>Customer_Since_Months</th>\n",
       "      <th>Destination_Type</th>\n",
       "      <th>Gender</th>\n",
       "      <th>Life_Style_Index</th>\n",
       "      <th>Surge_Pricing_Type</th>\n",
       "      <th>Trip_Distance</th>\n",
       "      <th>Trip_ID</th>\n",
       "      <th>Type_of_Cab</th>\n",
       "      <th>Var1</th>\n",
       "      <th>Var2</th>\n",
       "      <th>Var3</th>\n",
       "    </tr>\n",
       "  </thead>\n",
       "  <tbody>\n",
       "    <tr>\n",
       "      <td>0</td>\n",
       "      <td>0</td>\n",
       "      <td>A</td>\n",
       "      <td>3.90500</td>\n",
       "      <td>1.0</td>\n",
       "      <td>A</td>\n",
       "      <td>Female</td>\n",
       "      <td>2.42769</td>\n",
       "      <td>2.0</td>\n",
       "      <td>6.77</td>\n",
       "      <td>T0005689460</td>\n",
       "      <td>B</td>\n",
       "      <td>40.0</td>\n",
       "      <td>46</td>\n",
       "      <td>60</td>\n",
       "    </tr>\n",
       "    <tr>\n",
       "      <td>1</td>\n",
       "      <td>0</td>\n",
       "      <td>B</td>\n",
       "      <td>3.45000</td>\n",
       "      <td>10.0</td>\n",
       "      <td>A</td>\n",
       "      <td>Male</td>\n",
       "      <td>2.78245</td>\n",
       "      <td>2.0</td>\n",
       "      <td>29.47</td>\n",
       "      <td>T0005689461</td>\n",
       "      <td>B</td>\n",
       "      <td>38.0</td>\n",
       "      <td>56</td>\n",
       "      <td>78</td>\n",
       "    </tr>\n",
       "    <tr>\n",
       "      <td>2</td>\n",
       "      <td>2</td>\n",
       "      <td>NaN</td>\n",
       "      <td>3.50125</td>\n",
       "      <td>10.0</td>\n",
       "      <td>E</td>\n",
       "      <td>Male</td>\n",
       "      <td>NaN</td>\n",
       "      <td>2.0</td>\n",
       "      <td>41.58</td>\n",
       "      <td>T0005689464</td>\n",
       "      <td>NaN</td>\n",
       "      <td>NaN</td>\n",
       "      <td>56</td>\n",
       "      <td>77</td>\n",
       "    </tr>\n",
       "    <tr>\n",
       "      <td>3</td>\n",
       "      <td>0</td>\n",
       "      <td>NaN</td>\n",
       "      <td>3.45375</td>\n",
       "      <td>10.0</td>\n",
       "      <td>A</td>\n",
       "      <td>Male</td>\n",
       "      <td>NaN</td>\n",
       "      <td>3.0</td>\n",
       "      <td>61.56</td>\n",
       "      <td>T0005689465</td>\n",
       "      <td>C</td>\n",
       "      <td>NaN</td>\n",
       "      <td>52</td>\n",
       "      <td>74</td>\n",
       "    </tr>\n",
       "    <tr>\n",
       "      <td>4</td>\n",
       "      <td>4</td>\n",
       "      <td>B</td>\n",
       "      <td>3.40250</td>\n",
       "      <td>10.0</td>\n",
       "      <td>A</td>\n",
       "      <td>Male</td>\n",
       "      <td>3.03453</td>\n",
       "      <td>2.0</td>\n",
       "      <td>54.95</td>\n",
       "      <td>T0005689467</td>\n",
       "      <td>C</td>\n",
       "      <td>51.0</td>\n",
       "      <td>49</td>\n",
       "      <td>102</td>\n",
       "    </tr>\n",
       "  </tbody>\n",
       "</table>\n",
       "</div>"
      ],
      "text/plain": [
       "   Cancellation_Last_1Month Confidence_Life_Style_Index  Customer_Rating  \\\n",
       "0                         0                           A          3.90500   \n",
       "1                         0                           B          3.45000   \n",
       "2                         2                         NaN          3.50125   \n",
       "3                         0                         NaN          3.45375   \n",
       "4                         4                           B          3.40250   \n",
       "\n",
       "   Customer_Since_Months Destination_Type  Gender  Life_Style_Index  \\\n",
       "0                    1.0                A  Female           2.42769   \n",
       "1                   10.0                A    Male           2.78245   \n",
       "2                   10.0                E    Male               NaN   \n",
       "3                   10.0                A    Male               NaN   \n",
       "4                   10.0                A    Male           3.03453   \n",
       "\n",
       "   Surge_Pricing_Type  Trip_Distance      Trip_ID Type_of_Cab  Var1  Var2  \\\n",
       "0                 2.0           6.77  T0005689460           B  40.0    46   \n",
       "1                 2.0          29.47  T0005689461           B  38.0    56   \n",
       "2                 2.0          41.58  T0005689464         NaN   NaN    56   \n",
       "3                 3.0          61.56  T0005689465           C   NaN    52   \n",
       "4                 2.0          54.95  T0005689467           C  51.0    49   \n",
       "\n",
       "   Var3  \n",
       "0    60  \n",
       "1    78  \n",
       "2    77  \n",
       "3    74  \n",
       "4   102  "
      ]
     },
     "execution_count": 5,
     "metadata": {},
     "output_type": "execute_result"
    }
   ],
   "source": [
    "dataset.head()"
   ]
  },
  {
   "cell_type": "code",
   "execution_count": 6,
   "metadata": {},
   "outputs": [
    {
     "data": {
      "text/plain": [
       "Cancellation_Last_1Month            0\n",
       "Confidence_Life_Style_Index     33520\n",
       "Customer_Rating                     0\n",
       "Customer_Since_Months            9886\n",
       "Destination_Type                    0\n",
       "Gender                              0\n",
       "Life_Style_Index                33520\n",
       "Surge_Pricing_Type              87395\n",
       "Trip_Distance                       0\n",
       "Trip_ID                             0\n",
       "Type_of_Cab                     33368\n",
       "Var1                           117819\n",
       "Var2                                0\n",
       "Var3                                0\n",
       "dtype: int64"
      ]
     },
     "execution_count": 6,
     "metadata": {},
     "output_type": "execute_result"
    }
   ],
   "source": [
    "dataset.isnull().sum()"
   ]
  },
  {
   "cell_type": "code",
   "execution_count": 7,
   "metadata": {},
   "outputs": [
    {
     "data": {
      "text/plain": [
       "(219057, 14)"
      ]
     },
     "execution_count": 7,
     "metadata": {},
     "output_type": "execute_result"
    }
   ],
   "source": [
    "\n",
    "\n",
    "dataset.shape\n"
   ]
  },
  {
   "cell_type": "code",
   "execution_count": 8,
   "metadata": {},
   "outputs": [
    {
     "name": "stdout",
     "output_type": "stream",
     "text": [
      "<class 'pandas.core.frame.DataFrame'>\n",
      "RangeIndex: 219057 entries, 0 to 219056\n",
      "Data columns (total 14 columns):\n",
      "Cancellation_Last_1Month       219057 non-null int64\n",
      "Confidence_Life_Style_Index    185537 non-null object\n",
      "Customer_Rating                219057 non-null float64\n",
      "Customer_Since_Months          209171 non-null float64\n",
      "Destination_Type               219057 non-null object\n",
      "Gender                         219057 non-null object\n",
      "Life_Style_Index               185537 non-null float64\n",
      "Surge_Pricing_Type             131662 non-null float64\n",
      "Trip_Distance                  219057 non-null float64\n",
      "Trip_ID                        219057 non-null object\n",
      "Type_of_Cab                    185689 non-null object\n",
      "Var1                           101238 non-null float64\n",
      "Var2                           219057 non-null int64\n",
      "Var3                           219057 non-null int64\n",
      "dtypes: float64(6), int64(3), object(5)\n",
      "memory usage: 23.4+ MB\n"
     ]
    }
   ],
   "source": [
    "\n",
    "dataset.info()"
   ]
  },
  {
   "cell_type": "code",
   "execution_count": 9,
   "metadata": {},
   "outputs": [
    {
     "data": {
      "image/png": "[encoded data removed]",
      "text/plain": [
       "<Figure size 432x288 with 1 Axes>"
      ]
     },
     "metadata": {
      "needs_background": "light"
     },
     "output_type": "display_data"
    }
   ],
   "source": [
    "dataset_class_distribution = dataset['Surge_Pricing_Type'].value_counts()\n",
    "\n",
    "my_colors = 'rgbkymc'\n",
    "dataset_class_distribution.plot(kind='bar')\n",
    "plt.xlabel('Class')\n",
    "plt.ylabel('Data points per Class')\n",
    "plt.title('Distribution of yi in train data')\n",
    "plt.grid()\n",
    "plt.show()"
   ]
  },
  {
   "cell_type": "code",
   "execution_count": 10,
   "metadata": {},
   "outputs": [
    {
     "data": {
      "text/plain": [
       "B    51585\n",
       "C    46732\n",
       "A    35878\n",
       "D    31885\n",
       "E    19609\n",
       "Name: Type_of_Cab, dtype: int64"
      ]
     },
     "execution_count": 10,
     "metadata": {},
     "output_type": "execute_result"
    }
   ],
   "source": [
    "dataset['Type_of_Cab'].value_counts()"
   ]
  },
  {
   "cell_type": "code",
   "execution_count": 11,
   "metadata": {},
   "outputs": [
    {
     "data": {
      "image/png": "[encoded data removed]",
      "text/plain": [
       "<Figure size 432x288 with 1 Axes>"
      ]
     },
     "metadata": {
      "needs_background": "light"
     },
     "output_type": "display_data"
    }
   ],
   "source": [
    "train_class_distribution_type_of_cab = dataset['Type_of_Cab'].value_counts()\n",
    "\n",
    "my_colors = 'rgbkymc'\n",
    "train_class_distribution_type_of_cab.plot(kind='bar')\n",
    "plt.xlabel('Class')\n",
    "plt.ylabel('Data points per Class')\n",
    "plt.title('Distribution of yi in type_of_cab data')\n",
    "plt.grid()\n",
    "plt.show()"
   ]
  },
  {
   "cell_type": "code",
   "execution_count": 12,
   "metadata": {},
   "outputs": [
    {
     "name": "stdout",
     "output_type": "stream",
     "text": [
      "Number of data points in our data (219057, 14)\n"
     ]
    }
   ],
   "source": [
    "def partition(x):\n",
    "    if x=='A':\n",
    "        return 1\n",
    "    elif x=='B':\n",
    "        return 2\n",
    "    elif x=='C':\n",
    "        return 3\n",
    "    elif x=='D':\n",
    "        return 4\n",
    "    elif x=='E':\n",
    "        return 5\n",
    "actual_type=dataset['Type_of_Cab']\n",
    "Type_of_cab_data=actual_type.map(partition)\n",
    "dataset['Type_of_Cab']=Type_of_cab_data\n",
    "print(\"Number of data points in our data\", dataset.shape)\n",
    "    \n",
    "    "
   ]
  },
  {
   "cell_type": "code",
   "execution_count": 13,
   "metadata": {},
   "outputs": [
    {
     "data": {
      "text/html": [
       "<div>\n",
       "<style scoped>\n",
       "    .dataframe tbody tr th:only-of-type {\n",
       "        vertical-align: middle;\n",
       "    }\n",
       "\n",
       "    .dataframe tbody tr th {\n",
       "        vertical-align: top;\n",
       "    }\n",
       "\n",
       "    .dataframe thead th {\n",
       "        text-align: right;\n",
       "    }\n",
       "</style>\n",
       "<table border=\"1\" class=\"dataframe\">\n",
       "  <thead>\n",
       "    <tr style=\"text-align: right;\">\n",
       "      <th></th>\n",
       "      <th>Cancellation_Last_1Month</th>\n",
       "      <th>Confidence_Life_Style_Index</th>\n",
       "      <th>Customer_Rating</th>\n",
       "      <th>Customer_Since_Months</th>\n",
       "      <th>Destination_Type</th>\n",
       "      <th>Gender</th>\n",
       "      <th>Life_Style_Index</th>\n",
       "      <th>Surge_Pricing_Type</th>\n",
       "      <th>Trip_Distance</th>\n",
       "      <th>Trip_ID</th>\n",
       "      <th>Type_of_Cab</th>\n",
       "      <th>Var1</th>\n",
       "      <th>Var2</th>\n",
       "      <th>Var3</th>\n",
       "    </tr>\n",
       "  </thead>\n",
       "  <tbody>\n",
       "    <tr>\n",
       "      <td>2</td>\n",
       "      <td>2</td>\n",
       "      <td>NaN</td>\n",
       "      <td>3.50125</td>\n",
       "      <td>10.0</td>\n",
       "      <td>E</td>\n",
       "      <td>Male</td>\n",
       "      <td>NaN</td>\n",
       "      <td>2.0</td>\n",
       "      <td>41.58</td>\n",
       "      <td>T0005689464</td>\n",
       "      <td>NaN</td>\n",
       "      <td>NaN</td>\n",
       "      <td>56</td>\n",
       "      <td>77</td>\n",
       "    </tr>\n",
       "    <tr>\n",
       "      <td>11</td>\n",
       "      <td>1</td>\n",
       "      <td>C</td>\n",
       "      <td>2.93500</td>\n",
       "      <td>0.0</td>\n",
       "      <td>C</td>\n",
       "      <td>Male</td>\n",
       "      <td>2.95327</td>\n",
       "      <td>2.0</td>\n",
       "      <td>90.93</td>\n",
       "      <td>T0005689477</td>\n",
       "      <td>NaN</td>\n",
       "      <td>NaN</td>\n",
       "      <td>46</td>\n",
       "      <td>63</td>\n",
       "    </tr>\n",
       "    <tr>\n",
       "      <td>15</td>\n",
       "      <td>1</td>\n",
       "      <td>A</td>\n",
       "      <td>3.19750</td>\n",
       "      <td>1.0</td>\n",
       "      <td>A</td>\n",
       "      <td>Female</td>\n",
       "      <td>2.16167</td>\n",
       "      <td>2.0</td>\n",
       "      <td>14.18</td>\n",
       "      <td>T0005689485</td>\n",
       "      <td>NaN</td>\n",
       "      <td>NaN</td>\n",
       "      <td>46</td>\n",
       "      <td>57</td>\n",
       "    </tr>\n",
       "    <tr>\n",
       "      <td>28</td>\n",
       "      <td>1</td>\n",
       "      <td>C</td>\n",
       "      <td>3.15125</td>\n",
       "      <td>10.0</td>\n",
       "      <td>B</td>\n",
       "      <td>Male</td>\n",
       "      <td>2.70044</td>\n",
       "      <td>1.0</td>\n",
       "      <td>31.82</td>\n",
       "      <td>T0005689505</td>\n",
       "      <td>NaN</td>\n",
       "      <td>NaN</td>\n",
       "      <td>51</td>\n",
       "      <td>66</td>\n",
       "    </tr>\n",
       "    <tr>\n",
       "      <td>32</td>\n",
       "      <td>0</td>\n",
       "      <td>A</td>\n",
       "      <td>3.15875</td>\n",
       "      <td>4.0</td>\n",
       "      <td>B</td>\n",
       "      <td>Male</td>\n",
       "      <td>2.59621</td>\n",
       "      <td>1.0</td>\n",
       "      <td>18.34</td>\n",
       "      <td>T0005689509</td>\n",
       "      <td>NaN</td>\n",
       "      <td>NaN</td>\n",
       "      <td>53</td>\n",
       "      <td>72</td>\n",
       "    </tr>\n",
       "    <tr>\n",
       "      <td>...</td>\n",
       "      <td>...</td>\n",
       "      <td>...</td>\n",
       "      <td>...</td>\n",
       "      <td>...</td>\n",
       "      <td>...</td>\n",
       "      <td>...</td>\n",
       "      <td>...</td>\n",
       "      <td>...</td>\n",
       "      <td>...</td>\n",
       "      <td>...</td>\n",
       "      <td>...</td>\n",
       "      <td>...</td>\n",
       "      <td>...</td>\n",
       "      <td>...</td>\n",
       "    </tr>\n",
       "    <tr>\n",
       "      <td>219031</td>\n",
       "      <td>2</td>\n",
       "      <td>NaN</td>\n",
       "      <td>1.25875</td>\n",
       "      <td>0.0</td>\n",
       "      <td>G</td>\n",
       "      <td>Male</td>\n",
       "      <td>NaN</td>\n",
       "      <td>NaN</td>\n",
       "      <td>16.62</td>\n",
       "      <td>T0005908451</td>\n",
       "      <td>NaN</td>\n",
       "      <td>NaN</td>\n",
       "      <td>66</td>\n",
       "      <td>93</td>\n",
       "    </tr>\n",
       "    <tr>\n",
       "      <td>219037</td>\n",
       "      <td>0</td>\n",
       "      <td>A</td>\n",
       "      <td>3.55750</td>\n",
       "      <td>4.0</td>\n",
       "      <td>B</td>\n",
       "      <td>Male</td>\n",
       "      <td>2.70295</td>\n",
       "      <td>NaN</td>\n",
       "      <td>17.07</td>\n",
       "      <td>T0005908468</td>\n",
       "      <td>NaN</td>\n",
       "      <td>NaN</td>\n",
       "      <td>47</td>\n",
       "      <td>65</td>\n",
       "    </tr>\n",
       "    <tr>\n",
       "      <td>219041</td>\n",
       "      <td>0</td>\n",
       "      <td>A</td>\n",
       "      <td>3.41500</td>\n",
       "      <td>0.0</td>\n",
       "      <td>B</td>\n",
       "      <td>Female</td>\n",
       "      <td>2.18845</td>\n",
       "      <td>NaN</td>\n",
       "      <td>20.50</td>\n",
       "      <td>T0005908477</td>\n",
       "      <td>NaN</td>\n",
       "      <td>NaN</td>\n",
       "      <td>43</td>\n",
       "      <td>57</td>\n",
       "    </tr>\n",
       "    <tr>\n",
       "      <td>219043</td>\n",
       "      <td>2</td>\n",
       "      <td>C</td>\n",
       "      <td>2.76125</td>\n",
       "      <td>5.0</td>\n",
       "      <td>A</td>\n",
       "      <td>Female</td>\n",
       "      <td>2.61062</td>\n",
       "      <td>NaN</td>\n",
       "      <td>20.45</td>\n",
       "      <td>T0005908482</td>\n",
       "      <td>NaN</td>\n",
       "      <td>109.0</td>\n",
       "      <td>47</td>\n",
       "      <td>65</td>\n",
       "    </tr>\n",
       "    <tr>\n",
       "      <td>219045</td>\n",
       "      <td>1</td>\n",
       "      <td>C</td>\n",
       "      <td>1.81375</td>\n",
       "      <td>5.0</td>\n",
       "      <td>A</td>\n",
       "      <td>Female</td>\n",
       "      <td>2.64424</td>\n",
       "      <td>NaN</td>\n",
       "      <td>45.50</td>\n",
       "      <td>T0005908486</td>\n",
       "      <td>NaN</td>\n",
       "      <td>NaN</td>\n",
       "      <td>44</td>\n",
       "      <td>79</td>\n",
       "    </tr>\n",
       "  </tbody>\n",
       "</table>\n",
       "<p>33368 rows × 14 columns</p>\n",
       "</div>"
      ],
      "text/plain": [
       "        Cancellation_Last_1Month Confidence_Life_Style_Index  Customer_Rating  \\\n",
       "2                              2                         NaN          3.50125   \n",
       "11                             1                           C          2.93500   \n",
       "15                             1                           A          3.19750   \n",
       "28                             1                           C          3.15125   \n",
       "32                             0                           A          3.15875   \n",
       "...                          ...                         ...              ...   \n",
       "219031                         2                         NaN          1.25875   \n",
       "219037                         0                           A          3.55750   \n",
       "219041                         0                           A          3.41500   \n",
       "219043                         2                           C          2.76125   \n",
       "219045                         1                           C          1.81375   \n",
       "\n",
       "        Customer_Since_Months Destination_Type  Gender  Life_Style_Index  \\\n",
       "2                        10.0                E    Male               NaN   \n",
       "11                        0.0                C    Male           2.95327   \n",
       "15                        1.0                A  Female           2.16167   \n",
       "28                       10.0                B    Male           2.70044   \n",
       "32                        4.0                B    Male           2.59621   \n",
       "...                       ...              ...     ...               ...   \n",
       "219031                    0.0                G    Male               NaN   \n",
       "219037                    4.0                B    Male           2.70295   \n",
       "219041                    0.0                B  Female           2.18845   \n",
       "219043                    5.0                A  Female           2.61062   \n",
       "219045                    5.0                A  Female           2.64424   \n",
       "\n",
       "        Surge_Pricing_Type  Trip_Distance      Trip_ID  Type_of_Cab   Var1  \\\n",
       "2                      2.0          41.58  T0005689464          NaN    NaN   \n",
       "11                     2.0          90.93  T0005689477          NaN    NaN   \n",
       "15                     2.0          14.18  T0005689485          NaN    NaN   \n",
       "28                     1.0          31.82  T0005689505          NaN    NaN   \n",
       "32                     1.0          18.34  T0005689509          NaN    NaN   \n",
       "...                    ...            ...          ...          ...    ...   \n",
       "219031                 NaN          16.62  T0005908451          NaN    NaN   \n",
       "219037                 NaN          17.07  T0005908468          NaN    NaN   \n",
       "219041                 NaN          20.50  T0005908477          NaN    NaN   \n",
       "219043                 NaN          20.45  T0005908482          NaN  109.0   \n",
       "219045                 NaN          45.50  T0005908486          NaN    NaN   \n",
       "\n",
       "        Var2  Var3  \n",
       "2         56    77  \n",
       "11        46    63  \n",
       "15        46    57  \n",
       "28        51    66  \n",
       "32        53    72  \n",
       "...      ...   ...  \n",
       "219031    66    93  \n",
       "219037    47    65  \n",
       "219041    43    57  \n",
       "219043    47    65  \n",
       "219045    44    79  \n",
       "\n",
       "[33368 rows x 14 columns]"
      ]
     },
     "execution_count": 13,
     "metadata": {},
     "output_type": "execute_result"
    }
   ],
   "source": [
    "dataset[~(dataset['Type_of_Cab'].isin(['1','2','3' ,'4','5']))]"
   ]
  },
  {
   "cell_type": "code",
   "execution_count": 14,
   "metadata": {},
   "outputs": [
    {
     "data": {
      "text/html": [
       "<div>\n",
       "<style scoped>\n",
       "    .dataframe tbody tr th:only-of-type {\n",
       "        vertical-align: middle;\n",
       "    }\n",
       "\n",
       "    .dataframe tbody tr th {\n",
       "        vertical-align: top;\n",
       "    }\n",
       "\n",
       "    .dataframe thead th {\n",
       "        text-align: right;\n",
       "    }\n",
       "</style>\n",
       "<table border=\"1\" class=\"dataframe\">\n",
       "  <thead>\n",
       "    <tr style=\"text-align: right;\">\n",
       "      <th></th>\n",
       "      <th>Cancellation_Last_1Month</th>\n",
       "      <th>Confidence_Life_Style_Index</th>\n",
       "      <th>Customer_Rating</th>\n",
       "      <th>Customer_Since_Months</th>\n",
       "      <th>Destination_Type</th>\n",
       "      <th>Gender</th>\n",
       "      <th>Life_Style_Index</th>\n",
       "      <th>Surge_Pricing_Type</th>\n",
       "      <th>Trip_Distance</th>\n",
       "      <th>Trip_ID</th>\n",
       "      <th>Type_of_Cab</th>\n",
       "      <th>Var1</th>\n",
       "      <th>Var2</th>\n",
       "      <th>Var3</th>\n",
       "    </tr>\n",
       "  </thead>\n",
       "  <tbody>\n",
       "    <tr>\n",
       "      <td>0</td>\n",
       "      <td>0</td>\n",
       "      <td>A</td>\n",
       "      <td>3.90500</td>\n",
       "      <td>1.0</td>\n",
       "      <td>A</td>\n",
       "      <td>Female</td>\n",
       "      <td>2.42769</td>\n",
       "      <td>2.0</td>\n",
       "      <td>6.77</td>\n",
       "      <td>T0005689460</td>\n",
       "      <td>2.0</td>\n",
       "      <td>40.0</td>\n",
       "      <td>46</td>\n",
       "      <td>60</td>\n",
       "    </tr>\n",
       "    <tr>\n",
       "      <td>1</td>\n",
       "      <td>0</td>\n",
       "      <td>B</td>\n",
       "      <td>3.45000</td>\n",
       "      <td>10.0</td>\n",
       "      <td>A</td>\n",
       "      <td>Male</td>\n",
       "      <td>2.78245</td>\n",
       "      <td>2.0</td>\n",
       "      <td>29.47</td>\n",
       "      <td>T0005689461</td>\n",
       "      <td>2.0</td>\n",
       "      <td>38.0</td>\n",
       "      <td>56</td>\n",
       "      <td>78</td>\n",
       "    </tr>\n",
       "    <tr>\n",
       "      <td>2</td>\n",
       "      <td>2</td>\n",
       "      <td>NaN</td>\n",
       "      <td>3.50125</td>\n",
       "      <td>10.0</td>\n",
       "      <td>E</td>\n",
       "      <td>Male</td>\n",
       "      <td>NaN</td>\n",
       "      <td>2.0</td>\n",
       "      <td>41.58</td>\n",
       "      <td>T0005689464</td>\n",
       "      <td>NaN</td>\n",
       "      <td>NaN</td>\n",
       "      <td>56</td>\n",
       "      <td>77</td>\n",
       "    </tr>\n",
       "    <tr>\n",
       "      <td>3</td>\n",
       "      <td>0</td>\n",
       "      <td>NaN</td>\n",
       "      <td>3.45375</td>\n",
       "      <td>10.0</td>\n",
       "      <td>A</td>\n",
       "      <td>Male</td>\n",
       "      <td>NaN</td>\n",
       "      <td>3.0</td>\n",
       "      <td>61.56</td>\n",
       "      <td>T0005689465</td>\n",
       "      <td>3.0</td>\n",
       "      <td>NaN</td>\n",
       "      <td>52</td>\n",
       "      <td>74</td>\n",
       "    </tr>\n",
       "    <tr>\n",
       "      <td>4</td>\n",
       "      <td>4</td>\n",
       "      <td>B</td>\n",
       "      <td>3.40250</td>\n",
       "      <td>10.0</td>\n",
       "      <td>A</td>\n",
       "      <td>Male</td>\n",
       "      <td>3.03453</td>\n",
       "      <td>2.0</td>\n",
       "      <td>54.95</td>\n",
       "      <td>T0005689467</td>\n",
       "      <td>3.0</td>\n",
       "      <td>51.0</td>\n",
       "      <td>49</td>\n",
       "      <td>102</td>\n",
       "    </tr>\n",
       "    <tr>\n",
       "      <td>...</td>\n",
       "      <td>...</td>\n",
       "      <td>...</td>\n",
       "      <td>...</td>\n",
       "      <td>...</td>\n",
       "      <td>...</td>\n",
       "      <td>...</td>\n",
       "      <td>...</td>\n",
       "      <td>...</td>\n",
       "      <td>...</td>\n",
       "      <td>...</td>\n",
       "      <td>...</td>\n",
       "      <td>...</td>\n",
       "      <td>...</td>\n",
       "      <td>...</td>\n",
       "    </tr>\n",
       "    <tr>\n",
       "      <td>219052</td>\n",
       "      <td>0</td>\n",
       "      <td>C</td>\n",
       "      <td>0.99750</td>\n",
       "      <td>3.0</td>\n",
       "      <td>A</td>\n",
       "      <td>Female</td>\n",
       "      <td>2.40720</td>\n",
       "      <td>NaN</td>\n",
       "      <td>29.43</td>\n",
       "      <td>T0005908503</td>\n",
       "      <td>3.0</td>\n",
       "      <td>74.0</td>\n",
       "      <td>48</td>\n",
       "      <td>72</td>\n",
       "    </tr>\n",
       "    <tr>\n",
       "      <td>219053</td>\n",
       "      <td>0</td>\n",
       "      <td>A</td>\n",
       "      <td>4.74375</td>\n",
       "      <td>10.0</td>\n",
       "      <td>D</td>\n",
       "      <td>Female</td>\n",
       "      <td>2.57009</td>\n",
       "      <td>NaN</td>\n",
       "      <td>14.83</td>\n",
       "      <td>T0005908504</td>\n",
       "      <td>3.0</td>\n",
       "      <td>109.0</td>\n",
       "      <td>42</td>\n",
       "      <td>60</td>\n",
       "    </tr>\n",
       "    <tr>\n",
       "      <td>219054</td>\n",
       "      <td>0</td>\n",
       "      <td>C</td>\n",
       "      <td>1.63500</td>\n",
       "      <td>6.0</td>\n",
       "      <td>A</td>\n",
       "      <td>Male</td>\n",
       "      <td>3.08227</td>\n",
       "      <td>NaN</td>\n",
       "      <td>37.86</td>\n",
       "      <td>T0005908505</td>\n",
       "      <td>1.0</td>\n",
       "      <td>NaN</td>\n",
       "      <td>57</td>\n",
       "      <td>77</td>\n",
       "    </tr>\n",
       "    <tr>\n",
       "      <td>219055</td>\n",
       "      <td>1</td>\n",
       "      <td>NaN</td>\n",
       "      <td>2.59875</td>\n",
       "      <td>1.0</td>\n",
       "      <td>J</td>\n",
       "      <td>Male</td>\n",
       "      <td>NaN</td>\n",
       "      <td>NaN</td>\n",
       "      <td>10.63</td>\n",
       "      <td>T0005908511</td>\n",
       "      <td>3.0</td>\n",
       "      <td>107.0</td>\n",
       "      <td>51</td>\n",
       "      <td>77</td>\n",
       "    </tr>\n",
       "    <tr>\n",
       "      <td>219056</td>\n",
       "      <td>0</td>\n",
       "      <td>A</td>\n",
       "      <td>2.05500</td>\n",
       "      <td>10.0</td>\n",
       "      <td>A</td>\n",
       "      <td>Female</td>\n",
       "      <td>3.00274</td>\n",
       "      <td>NaN</td>\n",
       "      <td>37.96</td>\n",
       "      <td>T0005908515</td>\n",
       "      <td>2.0</td>\n",
       "      <td>NaN</td>\n",
       "      <td>48</td>\n",
       "      <td>73</td>\n",
       "    </tr>\n",
       "  </tbody>\n",
       "</table>\n",
       "<p>217491 rows × 14 columns</p>\n",
       "</div>"
      ],
      "text/plain": [
       "        Cancellation_Last_1Month Confidence_Life_Style_Index  Customer_Rating  \\\n",
       "0                              0                           A          3.90500   \n",
       "1                              0                           B          3.45000   \n",
       "2                              2                         NaN          3.50125   \n",
       "3                              0                         NaN          3.45375   \n",
       "4                              4                           B          3.40250   \n",
       "...                          ...                         ...              ...   \n",
       "219052                         0                           C          0.99750   \n",
       "219053                         0                           A          4.74375   \n",
       "219054                         0                           C          1.63500   \n",
       "219055                         1                         NaN          2.59875   \n",
       "219056                         0                           A          2.05500   \n",
       "\n",
       "        Customer_Since_Months Destination_Type  Gender  Life_Style_Index  \\\n",
       "0                         1.0                A  Female           2.42769   \n",
       "1                        10.0                A    Male           2.78245   \n",
       "2                        10.0                E    Male               NaN   \n",
       "3                        10.0                A    Male               NaN   \n",
       "4                        10.0                A    Male           3.03453   \n",
       "...                       ...              ...     ...               ...   \n",
       "219052                    3.0                A  Female           2.40720   \n",
       "219053                   10.0                D  Female           2.57009   \n",
       "219054                    6.0                A    Male           3.08227   \n",
       "219055                    1.0                J    Male               NaN   \n",
       "219056                   10.0                A  Female           3.00274   \n",
       "\n",
       "        Surge_Pricing_Type  Trip_Distance      Trip_ID  Type_of_Cab   Var1  \\\n",
       "0                      2.0           6.77  T0005689460          2.0   40.0   \n",
       "1                      2.0          29.47  T0005689461          2.0   38.0   \n",
       "2                      2.0          41.58  T0005689464          NaN    NaN   \n",
       "3                      3.0          61.56  T0005689465          3.0    NaN   \n",
       "4                      2.0          54.95  T0005689467          3.0   51.0   \n",
       "...                    ...            ...          ...          ...    ...   \n",
       "219052                 NaN          29.43  T0005908503          3.0   74.0   \n",
       "219053                 NaN          14.83  T0005908504          3.0  109.0   \n",
       "219054                 NaN          37.86  T0005908505          1.0    NaN   \n",
       "219055                 NaN          10.63  T0005908511          3.0  107.0   \n",
       "219056                 NaN          37.96  T0005908515          2.0    NaN   \n",
       "\n",
       "        Var2  Var3  \n",
       "0         46    60  \n",
       "1         56    78  \n",
       "2         56    77  \n",
       "3         52    74  \n",
       "4         49   102  \n",
       "...      ...   ...  \n",
       "219052    48    72  \n",
       "219053    42    60  \n",
       "219054    57    77  \n",
       "219055    51    77  \n",
       "219056    48    73  \n",
       "\n",
       "[217491 rows x 14 columns]"
      ]
     },
     "execution_count": 14,
     "metadata": {},
     "output_type": "execute_result"
    }
   ],
   "source": [
    "dataset.drop(dataset[dataset[\"Type_of_Cab\"].isnull() & (dataset[\"Customer_Since_Months\"].isnull())].index)"
   ]
  },
  {
   "cell_type": "code",
   "execution_count": 15,
   "metadata": {},
   "outputs": [],
   "source": [
    "dataset['Type_of_Cab'].fillna((dataset['Type_of_Cab'].median()), inplace=True)"
   ]
  },
  {
   "cell_type": "code",
   "execution_count": 16,
   "metadata": {},
   "outputs": [
    {
     "data": {
      "image/png": "[encoded data removed]",
      "text/plain": [
       "<Figure size 432x288 with 1 Axes>"
      ]
     },
     "metadata": {
      "needs_background": "light"
     },
     "output_type": "display_data"
    }
   ],
   "source": [
    "train_class_distribution_customer_since_months = dataset['Customer_Since_Months'].value_counts()\n",
    "\n",
    "my_colors = 'rgbkymc'\n",
    "train_class_distribution_customer_since_months.plot(kind='bar')\n",
    "plt.xlabel('Class')\n",
    "plt.ylabel('Data points per Class')\n",
    "plt.title('Distribution of yi in Customer_Since_Months')\n",
    "plt.grid()\n",
    "plt.show()"
   ]
  },
  {
   "cell_type": "code",
   "execution_count": 17,
   "metadata": {},
   "outputs": [
    {
     "data": {
      "text/html": [
       "<div>\n",
       "<style scoped>\n",
       "    .dataframe tbody tr th:only-of-type {\n",
       "        vertical-align: middle;\n",
       "    }\n",
       "\n",
       "    .dataframe tbody tr th {\n",
       "        vertical-align: top;\n",
       "    }\n",
       "\n",
       "    .dataframe thead th {\n",
       "        text-align: right;\n",
       "    }\n",
       "</style>\n",
       "<table border=\"1\" class=\"dataframe\">\n",
       "  <thead>\n",
       "    <tr style=\"text-align: right;\">\n",
       "      <th></th>\n",
       "      <th>Cancellation_Last_1Month</th>\n",
       "      <th>Confidence_Life_Style_Index</th>\n",
       "      <th>Customer_Rating</th>\n",
       "      <th>Customer_Since_Months</th>\n",
       "      <th>Destination_Type</th>\n",
       "      <th>Gender</th>\n",
       "      <th>Life_Style_Index</th>\n",
       "      <th>Surge_Pricing_Type</th>\n",
       "      <th>Trip_Distance</th>\n",
       "      <th>Trip_ID</th>\n",
       "      <th>Type_of_Cab</th>\n",
       "      <th>Var1</th>\n",
       "      <th>Var2</th>\n",
       "      <th>Var3</th>\n",
       "    </tr>\n",
       "  </thead>\n",
       "  <tbody>\n",
       "    <tr>\n",
       "      <td>13</td>\n",
       "      <td>0</td>\n",
       "      <td>B</td>\n",
       "      <td>2.14750</td>\n",
       "      <td>NaN</td>\n",
       "      <td>A</td>\n",
       "      <td>Female</td>\n",
       "      <td>2.69170</td>\n",
       "      <td>1.0</td>\n",
       "      <td>31.16</td>\n",
       "      <td>T0005689482</td>\n",
       "      <td>2.0</td>\n",
       "      <td>NaN</td>\n",
       "      <td>53</td>\n",
       "      <td>90</td>\n",
       "    </tr>\n",
       "    <tr>\n",
       "      <td>18</td>\n",
       "      <td>0</td>\n",
       "      <td>B</td>\n",
       "      <td>1.79750</td>\n",
       "      <td>NaN</td>\n",
       "      <td>B</td>\n",
       "      <td>Male</td>\n",
       "      <td>2.35974</td>\n",
       "      <td>2.0</td>\n",
       "      <td>13.94</td>\n",
       "      <td>T0005689491</td>\n",
       "      <td>2.0</td>\n",
       "      <td>NaN</td>\n",
       "      <td>50</td>\n",
       "      <td>64</td>\n",
       "    </tr>\n",
       "    <tr>\n",
       "      <td>35</td>\n",
       "      <td>0</td>\n",
       "      <td>B</td>\n",
       "      <td>1.83500</td>\n",
       "      <td>NaN</td>\n",
       "      <td>A</td>\n",
       "      <td>Male</td>\n",
       "      <td>2.70134</td>\n",
       "      <td>1.0</td>\n",
       "      <td>36.10</td>\n",
       "      <td>T0005689515</td>\n",
       "      <td>2.0</td>\n",
       "      <td>NaN</td>\n",
       "      <td>59</td>\n",
       "      <td>95</td>\n",
       "    </tr>\n",
       "    <tr>\n",
       "      <td>69</td>\n",
       "      <td>2</td>\n",
       "      <td>NaN</td>\n",
       "      <td>4.04875</td>\n",
       "      <td>NaN</td>\n",
       "      <td>L</td>\n",
       "      <td>Male</td>\n",
       "      <td>NaN</td>\n",
       "      <td>3.0</td>\n",
       "      <td>78.98</td>\n",
       "      <td>T0005689566</td>\n",
       "      <td>4.0</td>\n",
       "      <td>NaN</td>\n",
       "      <td>49</td>\n",
       "      <td>68</td>\n",
       "    </tr>\n",
       "    <tr>\n",
       "      <td>107</td>\n",
       "      <td>4</td>\n",
       "      <td>B</td>\n",
       "      <td>3.62625</td>\n",
       "      <td>NaN</td>\n",
       "      <td>A</td>\n",
       "      <td>Female</td>\n",
       "      <td>2.63792</td>\n",
       "      <td>1.0</td>\n",
       "      <td>21.46</td>\n",
       "      <td>T0005689632</td>\n",
       "      <td>2.0</td>\n",
       "      <td>NaN</td>\n",
       "      <td>47</td>\n",
       "      <td>78</td>\n",
       "    </tr>\n",
       "    <tr>\n",
       "      <td>...</td>\n",
       "      <td>...</td>\n",
       "      <td>...</td>\n",
       "      <td>...</td>\n",
       "      <td>...</td>\n",
       "      <td>...</td>\n",
       "      <td>...</td>\n",
       "      <td>...</td>\n",
       "      <td>...</td>\n",
       "      <td>...</td>\n",
       "      <td>...</td>\n",
       "      <td>...</td>\n",
       "      <td>...</td>\n",
       "      <td>...</td>\n",
       "      <td>...</td>\n",
       "    </tr>\n",
       "    <tr>\n",
       "      <td>218935</td>\n",
       "      <td>0</td>\n",
       "      <td>B</td>\n",
       "      <td>3.32250</td>\n",
       "      <td>NaN</td>\n",
       "      <td>A</td>\n",
       "      <td>Male</td>\n",
       "      <td>2.58539</td>\n",
       "      <td>NaN</td>\n",
       "      <td>32.49</td>\n",
       "      <td>T0005908216</td>\n",
       "      <td>3.0</td>\n",
       "      <td>NaN</td>\n",
       "      <td>48</td>\n",
       "      <td>65</td>\n",
       "    </tr>\n",
       "    <tr>\n",
       "      <td>218966</td>\n",
       "      <td>0</td>\n",
       "      <td>C</td>\n",
       "      <td>3.33625</td>\n",
       "      <td>NaN</td>\n",
       "      <td>A</td>\n",
       "      <td>Male</td>\n",
       "      <td>3.04394</td>\n",
       "      <td>NaN</td>\n",
       "      <td>46.13</td>\n",
       "      <td>T0005908291</td>\n",
       "      <td>3.0</td>\n",
       "      <td>44.0</td>\n",
       "      <td>50</td>\n",
       "      <td>76</td>\n",
       "    </tr>\n",
       "    <tr>\n",
       "      <td>218990</td>\n",
       "      <td>1</td>\n",
       "      <td>B</td>\n",
       "      <td>2.85250</td>\n",
       "      <td>NaN</td>\n",
       "      <td>A</td>\n",
       "      <td>Female</td>\n",
       "      <td>2.18827</td>\n",
       "      <td>NaN</td>\n",
       "      <td>10.26</td>\n",
       "      <td>T0005908341</td>\n",
       "      <td>3.0</td>\n",
       "      <td>89.0</td>\n",
       "      <td>48</td>\n",
       "      <td>62</td>\n",
       "    </tr>\n",
       "    <tr>\n",
       "      <td>218993</td>\n",
       "      <td>0</td>\n",
       "      <td>B</td>\n",
       "      <td>0.98375</td>\n",
       "      <td>NaN</td>\n",
       "      <td>B</td>\n",
       "      <td>Male</td>\n",
       "      <td>2.17327</td>\n",
       "      <td>NaN</td>\n",
       "      <td>11.21</td>\n",
       "      <td>T0005908350</td>\n",
       "      <td>3.0</td>\n",
       "      <td>72.0</td>\n",
       "      <td>48</td>\n",
       "      <td>63</td>\n",
       "    </tr>\n",
       "    <tr>\n",
       "      <td>218996</td>\n",
       "      <td>1</td>\n",
       "      <td>B</td>\n",
       "      <td>2.10750</td>\n",
       "      <td>NaN</td>\n",
       "      <td>A</td>\n",
       "      <td>Male</td>\n",
       "      <td>2.49163</td>\n",
       "      <td>NaN</td>\n",
       "      <td>32.13</td>\n",
       "      <td>T0005908359</td>\n",
       "      <td>1.0</td>\n",
       "      <td>71.0</td>\n",
       "      <td>51</td>\n",
       "      <td>72</td>\n",
       "    </tr>\n",
       "  </tbody>\n",
       "</table>\n",
       "<p>9886 rows × 14 columns</p>\n",
       "</div>"
      ],
      "text/plain": [
       "        Cancellation_Last_1Month Confidence_Life_Style_Index  Customer_Rating  \\\n",
       "13                             0                           B          2.14750   \n",
       "18                             0                           B          1.79750   \n",
       "35                             0                           B          1.83500   \n",
       "69                             2                         NaN          4.04875   \n",
       "107                            4                           B          3.62625   \n",
       "...                          ...                         ...              ...   \n",
       "218935                         0                           B          3.32250   \n",
       "218966                         0                           C          3.33625   \n",
       "218990                         1                           B          2.85250   \n",
       "218993                         0                           B          0.98375   \n",
       "218996                         1                           B          2.10750   \n",
       "\n",
       "        Customer_Since_Months Destination_Type  Gender  Life_Style_Index  \\\n",
       "13                        NaN                A  Female           2.69170   \n",
       "18                        NaN                B    Male           2.35974   \n",
       "35                        NaN                A    Male           2.70134   \n",
       "69                        NaN                L    Male               NaN   \n",
       "107                       NaN                A  Female           2.63792   \n",
       "...                       ...              ...     ...               ...   \n",
       "218935                    NaN                A    Male           2.58539   \n",
       "218966                    NaN                A    Male           3.04394   \n",
       "218990                    NaN                A  Female           2.18827   \n",
       "218993                    NaN                B    Male           2.17327   \n",
       "218996                    NaN                A    Male           2.49163   \n",
       "\n",
       "        Surge_Pricing_Type  Trip_Distance      Trip_ID  Type_of_Cab  Var1  \\\n",
       "13                     1.0          31.16  T0005689482          2.0   NaN   \n",
       "18                     2.0          13.94  T0005689491          2.0   NaN   \n",
       "35                     1.0          36.10  T0005689515          2.0   NaN   \n",
       "69                     3.0          78.98  T0005689566          4.0   NaN   \n",
       "107                    1.0          21.46  T0005689632          2.0   NaN   \n",
       "...                    ...            ...          ...          ...   ...   \n",
       "218935                 NaN          32.49  T0005908216          3.0   NaN   \n",
       "218966                 NaN          46.13  T0005908291          3.0  44.0   \n",
       "218990                 NaN          10.26  T0005908341          3.0  89.0   \n",
       "218993                 NaN          11.21  T0005908350          3.0  72.0   \n",
       "218996                 NaN          32.13  T0005908359          1.0  71.0   \n",
       "\n",
       "        Var2  Var3  \n",
       "13        53    90  \n",
       "18        50    64  \n",
       "35        59    95  \n",
       "69        49    68  \n",
       "107       47    78  \n",
       "...      ...   ...  \n",
       "218935    48    65  \n",
       "218966    50    76  \n",
       "218990    48    62  \n",
       "218993    48    63  \n",
       "218996    51    72  \n",
       "\n",
       "[9886 rows x 14 columns]"
      ]
     },
     "execution_count": 17,
     "metadata": {},
     "output_type": "execute_result"
    }
   ],
   "source": [
    "dataset[~(dataset['Customer_Since_Months'].isin(['1','2','3' ,'4','5','6','7','8','9','10','0']))]\n"
   ]
  },
  {
   "cell_type": "code",
   "execution_count": 18,
   "metadata": {},
   "outputs": [],
   "source": [
    "dataset['Customer_Since_Months'].fillna((dataset['Customer_Since_Months'].median()), inplace=True)"
   ]
  },
  {
   "cell_type": "code",
   "execution_count": 19,
   "metadata": {},
   "outputs": [
    {
     "data": {
      "text/plain": [
       "33520"
      ]
     },
     "execution_count": 19,
     "metadata": {},
     "output_type": "execute_result"
    }
   ],
   "source": [
    "dataset['Life_Style_Index'].isnull().sum()"
   ]
  },
  {
   "cell_type": "code",
   "execution_count": 20,
   "metadata": {},
   "outputs": [
    {
     "data": {
      "text/plain": [
       "33520"
      ]
     },
     "execution_count": 20,
     "metadata": {},
     "output_type": "execute_result"
    }
   ],
   "source": [
    "dataset['Confidence_Life_Style_Index'].isnull().sum()"
   ]
  },
  {
   "cell_type": "code",
   "execution_count": 21,
   "metadata": {},
   "outputs": [
    {
     "data": {
      "image/png": "[encoded data removed]",
      "text/plain": [
       "<Figure size 432x288 with 1 Axes>"
      ]
     },
     "metadata": {
      "needs_background": "light"
     },
     "output_type": "display_data"
    }
   ],
   "source": [
    "train_Confidence_Life_Style_Index=dataset['Confidence_Life_Style_Index'].value_counts()\n",
    "\n",
    "color='rgbkymc'\n",
    "train_Confidence_Life_Style_Index.plot(kind='bar')\n",
    "plt.xlabel(\"class\")\n",
    "plt.ylabel(\"Data points y in Confidence_Life_Style_Index\")\n",
    "plt.title(\"Distribution_Confidence_Life_Style_Index\")\n",
    "plt.grid()\n",
    "plt.show()"
   ]
  },
  {
   "cell_type": "code",
   "execution_count": 22,
   "metadata": {},
   "outputs": [
    {
     "name": "stdout",
     "output_type": "stream",
     "text": [
      "Number of data points in our data (219057, 14)\n"
     ]
    }
   ],
   "source": [
    "def new_partition(x):\n",
    "    if x=='A':\n",
    "        return 5.64\n",
    "    elif x=='B':\n",
    "        return 6.34\n",
    "    elif x=='C':\n",
    "        return 5.99\n",
    "    \n",
    "actual_type=dataset['Confidence_Life_Style_Index']\n",
    "Confidence_Life_Style_Index=actual_type.map(new_partition)\n",
    "dataset['Confidence_Life_Style_Index']=Confidence_Life_Style_Index\n",
    "print(\"Number of data points in our data\", dataset.shape)"
   ]
  },
  {
   "cell_type": "code",
   "execution_count": 23,
   "metadata": {},
   "outputs": [
    {
     "name": "stdout",
     "output_type": "stream",
     "text": [
      "Number of data points in our data (219057, 14)\n"
     ]
    }
   ],
   "source": [
    "def gender_change(x):\n",
    "    if x=='Male':\n",
    "        return 0\n",
    "    elif x=='Female':\n",
    "        return 1\n",
    "    \n",
    "actual_type=dataset['Gender']\n",
    "gender=actual_type.map(gender_change)\n",
    "dataset['Gender']=gender\n",
    "print(\"Number of data points in our data\", dataset.shape)"
   ]
  },
  {
   "cell_type": "code",
   "execution_count": 24,
   "metadata": {},
   "outputs": [
    {
     "data": {
      "text/plain": [
       "Cancellation_Last_1Month            0\n",
       "Confidence_Life_Style_Index     33520\n",
       "Customer_Rating                     0\n",
       "Customer_Since_Months               0\n",
       "Destination_Type                    0\n",
       "Gender                              0\n",
       "Life_Style_Index                33520\n",
       "Surge_Pricing_Type              87395\n",
       "Trip_Distance                       0\n",
       "Trip_ID                             0\n",
       "Type_of_Cab                         0\n",
       "Var1                           117819\n",
       "Var2                                0\n",
       "Var3                                0\n",
       "dtype: int64"
      ]
     },
     "execution_count": 24,
     "metadata": {},
     "output_type": "execute_result"
    }
   ],
   "source": [
    "dataset.isnull().sum()"
   ]
  },
  {
   "cell_type": "code",
   "execution_count": 25,
   "metadata": {},
   "outputs": [
    {
     "data": {
      "text/plain": [
       "2.79828"
      ]
     },
     "execution_count": 25,
     "metadata": {},
     "output_type": "execute_result"
    }
   ],
   "source": [
    "dataset['Life_Style_Index'].median()"
   ]
  },
  {
   "cell_type": "code",
   "execution_count": 26,
   "metadata": {},
   "outputs": [
    {
     "data": {
      "text/plain": [
       "5.99"
      ]
     },
     "execution_count": 26,
     "metadata": {},
     "output_type": "execute_result"
    }
   ],
   "source": [
    "dataset['Confidence_Life_Style_Index'].median()"
   ]
  },
  {
   "cell_type": "code",
   "execution_count": 27,
   "metadata": {},
   "outputs": [],
   "source": [
    "dataset['Confidence_Life_Style_Index'].fillna((dataset['Confidence_Life_Style_Index'].median()), inplace=True)"
   ]
  },
  {
   "cell_type": "code",
   "execution_count": 28,
   "metadata": {},
   "outputs": [],
   "source": [
    "dataset['Life_Style_Index'].fillna((dataset['Life_Style_Index'].median()), inplace=True)"
   ]
  },
  {
   "cell_type": "code",
   "execution_count": 29,
   "metadata": {},
   "outputs": [
    {
     "name": "stdout",
     "output_type": "stream",
     "text": [
      "<class 'pandas.core.frame.DataFrame'>\n",
      "RangeIndex: 219057 entries, 0 to 219056\n",
      "Data columns (total 14 columns):\n",
      "Cancellation_Last_1Month       219057 non-null int64\n",
      "Confidence_Life_Style_Index    219057 non-null float64\n",
      "Customer_Rating                219057 non-null float64\n",
      "Customer_Since_Months          219057 non-null float64\n",
      "Destination_Type               219057 non-null object\n",
      "Gender                         219057 non-null int64\n",
      "Life_Style_Index               219057 non-null float64\n",
      "Surge_Pricing_Type             131662 non-null float64\n",
      "Trip_Distance                  219057 non-null float64\n",
      "Trip_ID                        219057 non-null object\n",
      "Type_of_Cab                    219057 non-null float64\n",
      "Var1                           101238 non-null float64\n",
      "Var2                           219057 non-null int64\n",
      "Var3                           219057 non-null int64\n",
      "dtypes: float64(8), int64(4), object(2)\n",
      "memory usage: 23.4+ MB\n"
     ]
    }
   ],
   "source": [
    "dataset.info()"
   ]
  },
  {
   "cell_type": "code",
   "execution_count": 30,
   "metadata": {},
   "outputs": [],
   "source": [
    "dataset['Var1']=dataset['Var1'].fillna(0)"
   ]
  },
  {
   "cell_type": "code",
   "execution_count": 31,
   "metadata": {},
   "outputs": [
    {
     "name": "stdout",
     "output_type": "stream",
     "text": [
      "<class 'pandas.core.frame.DataFrame'>\n",
      "RangeIndex: 219057 entries, 0 to 219056\n",
      "Data columns (total 14 columns):\n",
      "Cancellation_Last_1Month       219057 non-null int64\n",
      "Confidence_Life_Style_Index    219057 non-null float64\n",
      "Customer_Rating                219057 non-null float64\n",
      "Customer_Since_Months          219057 non-null float64\n",
      "Destination_Type               219057 non-null object\n",
      "Gender                         219057 non-null int64\n",
      "Life_Style_Index               219057 non-null float64\n",
      "Surge_Pricing_Type             131662 non-null float64\n",
      "Trip_Distance                  219057 non-null float64\n",
      "Trip_ID                        219057 non-null object\n",
      "Type_of_Cab                    219057 non-null float64\n",
      "Var1                           219057 non-null float64\n",
      "Var2                           219057 non-null int64\n",
      "Var3                           219057 non-null int64\n",
      "dtypes: float64(8), int64(4), object(2)\n",
      "memory usage: 23.4+ MB\n"
     ]
    }
   ],
   "source": [
    "dataset.info()"
   ]
  },
  {
   "cell_type": "code",
   "execution_count": 31,
   "metadata": {},
   "outputs": [
    {
     "data": {
      "text/plain": [
       "A    129010\n",
       "B     49193\n",
       "C     12397\n",
       "D     11085\n",
       "E      4549\n",
       "F      3222\n",
       "G      2513\n",
       "H      2124\n",
       "I      1334\n",
       "J      1166\n",
       "K      1102\n",
       "L      1052\n",
       "M       160\n",
       "N       150\n",
       "Name: Destination_Type, dtype: int64"
      ]
     },
     "execution_count": 31,
     "metadata": {},
     "output_type": "execute_result"
    }
   ],
   "source": [
    "dataset['Destination_Type'].value_counts()"
   ]
  },
  {
   "cell_type": "code",
   "execution_count": 32,
   "metadata": {},
   "outputs": [
    {
     "name": "stdout",
     "output_type": "stream",
     "text": [
      "Number of data points in our data (219057, 14)\n"
     ]
    }
   ],
   "source": [
    "def partition_new(x):\n",
    "    if x=='A':\n",
    "        return 1\n",
    "    elif x=='B':\n",
    "        return 2\n",
    "    elif x=='C':\n",
    "        return 3\n",
    "    elif x=='D':\n",
    "        return 4\n",
    "    elif x=='E':\n",
    "        return 5\n",
    "    elif x=='F':\n",
    "        return 6\n",
    "    elif x=='G':\n",
    "        return 7\n",
    "    elif x=='H':\n",
    "        return 8\n",
    "    elif x=='I':\n",
    "        return 9\n",
    "    elif x=='J':\n",
    "        return 10\n",
    "    elif x=='K':\n",
    "        return 11\n",
    "    elif x=='L':\n",
    "        return 12\n",
    "    elif x=='M':\n",
    "        return 13\n",
    "    elif x=='N':\n",
    "        return 14\n",
    "    \n",
    "    \n",
    "actual_type=dataset['Destination_Type']\n",
    "Destination_Type=actual_type.map(partition_new)\n",
    "dataset['Destination_Type']=Destination_Type\n",
    "print(\"Number of data points in our data\", dataset.shape)\n",
    "    \n",
    "    "
   ]
  },
  {
   "cell_type": "code",
   "execution_count": 35,
   "metadata": {},
   "outputs": [
    {
     "name": "stdout",
     "output_type": "stream",
     "text": [
      "<class 'pandas.core.frame.DataFrame'>\n",
      "RangeIndex: 219057 entries, 0 to 219056\n",
      "Data columns (total 14 columns):\n",
      "Cancellation_Last_1Month       219057 non-null int64\n",
      "Confidence_Life_Style_Index    219057 non-null float64\n",
      "Customer_Rating                219057 non-null float64\n",
      "Customer_Since_Months          219057 non-null float64\n",
      "Destination_Type               219057 non-null int64\n",
      "Gender                         219057 non-null int64\n",
      "Life_Style_Index               219057 non-null float64\n",
      "Surge_Pricing_Type             131662 non-null float64\n",
      "Trip_Distance                  219057 non-null float64\n",
      "Trip_ID                        219057 non-null object\n",
      "Type_of_Cab                    219057 non-null float64\n",
      "Var1                           219057 non-null float64\n",
      "Var2                           219057 non-null int64\n",
      "Var3                           219057 non-null int64\n",
      "dtypes: float64(8), int64(5), object(1)\n",
      "memory usage: 23.4+ MB\n"
     ]
    }
   ],
   "source": [
    "dataset.info()"
   ]
  },
  {
   "cell_type": "code",
   "execution_count": 36,
   "metadata": {},
   "outputs": [],
   "source": [
    "from sklearn.model_selection import train_test_split\n",
    "from sklearn.preprocessing import LabelEncoder\n",
    "from sklearn.tree import DecisionTreeClassifier\n",
    "from sklearn.ensemble import RandomForestClassifier\n",
    "from sklearn.model_selection import GridSearchCV\n",
    "from sklearn.metrics import accuracy_score,classification_report\n",
    "le=LabelEncoder()\n",
    "dt=DecisionTreeClassifier()\n",
    "rf=RandomForestClassifier()\n",
    "from sklearn.preprocessing import StandardScaler\n",
    "ss=StandardScaler()"
   ]
  },
  {
   "cell_type": "code",
   "execution_count": 44,
   "metadata": {},
   "outputs": [
    {
     "data": {
      "text/plain": [
       "(219057, 13)"
      ]
     },
     "execution_count": 44,
     "metadata": {},
     "output_type": "execute_result"
    }
   ],
   "source": [
    "dataset = pd.get_dummies(dataset.drop('Trip_ID', axis=1))\n",
    "dataset.shape"
   ]
  },
  {
   "cell_type": "code",
   "execution_count": 45,
   "metadata": {},
   "outputs": [
    {
     "name": "stdout",
     "output_type": "stream",
     "text": [
      "<class 'pandas.core.frame.DataFrame'>\n",
      "RangeIndex: 219057 entries, 0 to 219056\n",
      "Data columns (total 13 columns):\n",
      "Cancellation_Last_1Month       219057 non-null int64\n",
      "Confidence_Life_Style_Index    219057 non-null float64\n",
      "Customer_Rating                219057 non-null float64\n",
      "Customer_Since_Months          219057 non-null float64\n",
      "Destination_Type               219057 non-null int64\n",
      "Gender                         219057 non-null int64\n",
      "Life_Style_Index               219057 non-null float64\n",
      "Surge_Pricing_Type             131662 non-null float64\n",
      "Trip_Distance                  219057 non-null float64\n",
      "Type_of_Cab                    219057 non-null float64\n",
      "Var1                           219057 non-null float64\n",
      "Var2                           219057 non-null int64\n",
      "Var3                           219057 non-null int64\n",
      "dtypes: float64(8), int64(5)\n",
      "memory usage: 21.7 MB\n"
     ]
    }
   ],
   "source": [
    "dataset.info()"
   ]
  },
  {
   "cell_type": "code",
   "execution_count": 46,
   "metadata": {},
   "outputs": [
    {
     "data": {
      "text/plain": [
       "((131662, 12), (131662,), (87395, 12))"
      ]
     },
     "execution_count": 46,
     "metadata": {},
     "output_type": "execute_result"
    }
   ],
   "source": [
    "X = dataset[dataset['Surge_Pricing_Type'].isnull()!=True].drop(['Surge_Pricing_Type'], axis=1)\n",
    "y = dataset[dataset['Surge_Pricing_Type'].isnull()!=True]['Surge_Pricing_Type']\n",
    "\n",
    "X_test = dataset[dataset['Surge_Pricing_Type'].isnull()==True].drop(['Surge_Pricing_Type'], axis=1)\n",
    "\n",
    "X.shape, y.shape, X_test.shape"
   ]
  },
  {
   "cell_type": "code",
   "execution_count": 47,
   "metadata": {},
   "outputs": [],
   "source": [
    "x_train, x_val, y_train, y_val = train_test_split(X, y, test_size=0.2)"
   ]
  },
  {
   "cell_type": "code",
   "execution_count": 69,
   "metadata": {},
   "outputs": [
    {
     "data": {
      "text/plain": [
       "((105329, 12), (26333, 12), (105329,), (26333,))"
      ]
     },
     "execution_count": 69,
     "metadata": {},
     "output_type": "execute_result"
    }
   ],
   "source": [
    "x_train.shape, x_val.shape, y_train.shape, y_val.shape"
   ]
  },
  {
   "cell_type": "code",
   "execution_count": 78,
   "metadata": {},
   "outputs": [],
   "source": [
    "from sklearn.metrics import accuracy_score, confusion_matrix\n"
   ]
  },
  {
   "cell_type": "code",
   "execution_count": 70,
   "metadata": {},
   "outputs": [],
   "source": [
    "\n",
    "import xgboost as xgb\n",
    "\n",
    "dtrain = xgb.DMatrix(data=x_train, label=y_train)\n",
    "dtest = xgb.DMatrix(data=x_val)"
   ]
  },
  {
   "cell_type": "code",
   "execution_count": 71,
   "metadata": {},
   "outputs": [],
   "source": [
    "params = {\n",
    "    'max_depth': 6,\n",
    "    'objective': 'multi:softmax',  # error evaluation for multiclass training\n",
    "    'num_class': 4,\n",
    "    'n_gpus': 0\n",
    "}"
   ]
  },
  {
   "cell_type": "code",
   "execution_count": 72,
   "metadata": {},
   "outputs": [],
   "source": [
    "bst = xgb.train(params, dtrain)"
   ]
  },
  {
   "cell_type": "code",
   "execution_count": 73,
   "metadata": {},
   "outputs": [],
   "source": [
    "pred = bst.predict(dtest)"
   ]
  },
  {
   "cell_type": "code",
   "execution_count": 74,
   "metadata": {},
   "outputs": [
    {
     "data": {
      "text/plain": [
       "array([3., 3., 1., ..., 2., 2., 3.], dtype=float32)"
      ]
     },
     "execution_count": 74,
     "metadata": {},
     "output_type": "execute_result"
    }
   ],
   "source": [
    "pred"
   ]
  },
  {
   "cell_type": "code",
   "execution_count": 75,
   "metadata": {},
   "outputs": [
    {
     "name": "stdout",
     "output_type": "stream",
     "text": [
      "              precision    recall  f1-score   support\n",
      "\n",
      "         1.0       0.75      0.54      0.63      5413\n",
      "         2.0       0.65      0.82      0.72     11316\n",
      "         3.0       0.73      0.61      0.67      9604\n",
      "\n",
      "    accuracy                           0.69     26333\n",
      "   macro avg       0.71      0.66      0.67     26333\n",
      "weighted avg       0.70      0.69      0.68     26333\n",
      "\n"
     ]
    }
   ],
   "source": [
    "print(classification_report(y_val, pred))"
   ]
  },
  {
   "cell_type": "code",
   "execution_count": 76,
   "metadata": {},
   "outputs": [
    {
     "data": {
      "text/plain": [
       "array([[2907, 1967,  539],\n",
       "       [ 406, 9315, 1595],\n",
       "       [ 575, 3127, 5902]], dtype=int64)"
      ]
     },
     "execution_count": 76,
     "metadata": {},
     "output_type": "execute_result"
    }
   ],
   "source": [
    "cm = confusion_matrix(y_val, pred)\n",
    "cm"
   ]
  },
  {
   "cell_type": "code",
   "execution_count": 77,
   "metadata": {},
   "outputs": [
    {
     "data": {
      "text/plain": [
       "(87395, 2)"
      ]
     },
     "execution_count": 77,
     "metadata": {},
     "output_type": "execute_result"
    }
   ],
   "source": [
    "submission = pd.DataFrame()\n",
    "submission['Trip_ID'] = test['Trip_ID']\n",
    "submission['Surge_Pricing_Type'] = pred_y[3]\n",
    "submission.to_csv('XGB.csv', index=False, header=True)\n",
    "submission.shape"
   ]
  },
  {
   "cell_type": "code",
   "execution_count": null,
   "metadata": {},
   "outputs": [],
   "source": []
  }
 ],
 "metadata": {
  "kernelspec": {
   "display_name": "Python 3",
   "language": "python",
   "name": "python3"
  },
  "language_info": {
   "codemirror_mode": {
    "name": "ipython",
    "version": 3
   },
   "file_extension": ".py",
   "mimetype": "text/x-python",
   "name": "python",
   "nbconvert_exporter": "python",
   "pygments_lexer": "ipython3",
   "version": "3.7.4"
  }
 },
 "nbformat": 4,
 "nbformat_minor": 2
}
